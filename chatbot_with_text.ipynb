{
  "cells": [
    {
      "cell_type": "markdown",
      "metadata": {
        "id": "view-in-github",
        "colab_type": "text"
      },
      "source": [
        "<a href=\"https://colab.research.google.com/github/sures-123/Self-Learning-ChatBot/blob/main/chatbot_with_text.ipynb\" target=\"_parent\"><img src=\"https://colab.research.google.com/assets/colab-badge.svg\" alt=\"Open In Colab\"/></a>"
      ]
    },
    {
      "cell_type": "markdown",
      "metadata": {
        "id": "5LjGU34QnsMU"
      },
      "source": [
        "**Importing Natural Language Toolkit**  \n"
      ],
      "id": "5LjGU34QnsMU"
    },
    {
      "cell_type": "code",
      "execution_count": 1,
      "metadata": {
        "colab": {
          "base_uri": "https://localhost:8080/"
        },
        "id": "NOpq4TNHldAo",
        "outputId": "d4351d41-3a46-4c12-9d60-24c760fadbd0"
      },
      "outputs": [
        {
          "output_type": "stream",
          "name": "stdout",
          "text": [
            "Requirement already satisfied: nltk in /usr/local/lib/python3.10/dist-packages (3.8.1)\n",
            "Requirement already satisfied: click in /usr/local/lib/python3.10/dist-packages (from nltk) (8.1.7)\n",
            "Requirement already satisfied: joblib in /usr/local/lib/python3.10/dist-packages (from nltk) (1.3.2)\n",
            "Requirement already satisfied: regex>=2021.8.3 in /usr/local/lib/python3.10/dist-packages (from nltk) (2023.6.3)\n",
            "Requirement already satisfied: tqdm in /usr/local/lib/python3.10/dist-packages (from nltk) (4.66.1)\n"
          ]
        }
      ],
      "source": [
        "!pip install nltk"
      ],
      "id": "NOpq4TNHldAo"
    },
    {
      "cell_type": "markdown",
      "metadata": {
        "id": "h94khcMVoF3S"
      },
      "source": [
        "***Import The  Nessecary Packages***"
      ],
      "id": "h94khcMVoF3S"
    },
    {
      "cell_type": "code",
      "execution_count": 2,
      "metadata": {
        "colab": {
          "base_uri": "https://localhost:8080/"
        },
        "id": "a8a47ef4",
        "outputId": "af02d950-9cbe-466d-d8c1-011cca8919b9"
      },
      "outputs": [
        {
          "output_type": "stream",
          "name": "stderr",
          "text": [
            "[nltk_data] Downloading package punkt to /root/nltk_data...\n",
            "[nltk_data]   Unzipping tokenizers/punkt.zip.\n",
            "[nltk_data] Downloading package wordnet to /root/nltk_data...\n",
            "[nltk_data] Downloading package omw-1.4 to /root/nltk_data...\n"
          ]
        },
        {
          "output_type": "execute_result",
          "data": {
            "text/plain": [
              "True"
            ]
          },
          "metadata": {},
          "execution_count": 2
        }
      ],
      "source": [
        "import nltk\n",
        "import random\n",
        "import string\n",
        "from nltk.stem import WordNetLemmatizer\n",
        "from sklearn.feature_extraction.text import TfidfVectorizer\n",
        "from sklearn.metrics.pairwise import cosine_similarity\n",
        "nltk.download('punkt')#use punkt tokenizer\n",
        "nltk.download('wordnet') #use wordnet dictonary\n",
        "nltk.download ('omw-1.4')\n",
        "nltk.download('popular', quiet=True) # for downloading packages"
      ],
      "id": "a8a47ef4"
    },
    {
      "cell_type": "markdown",
      "metadata": {
        "id": "FPk3JjF9oSLW"
      },
      "source": [
        "***Ignore The Warnings***"
      ],
      "id": "FPk3JjF9oSLW"
    },
    {
      "cell_type": "code",
      "execution_count": 3,
      "metadata": {
        "colab": {
          "base_uri": "https://localhost:8080/",
          "height": 140
        },
        "id": "cpM0yMNLl6ET",
        "outputId": "c989c2a9-0980-4449-afc8-26cc177c1870"
      },
      "outputs": [
        {
          "output_type": "execute_result",
          "data": {
            "text/plain": [
              "'ABOUT HALLMARK\\n\\nHallmark Global Technologies is an end-to-end technology company that offers full-fledged software development services to businesses across industry verticals. Significantly, we help our clients to leverage on innovative technologies and remain competitive in the market.\\n\\nHallmark Global Technologies is based in Delaware, USA. We have pioneered the introduction of innovative technologies. We drive value for our clients through Custom Application Development, System Integration, Consulting, Infrastructure Management and Cloud Services, and Staffing solutions.\\n\\nPrimarily, we help our client to keep up-to-date on technologies, applications and business strategies. Through proven and value-driven technology and consulting practice, we aim to achieve and enhance each business™ bottom line.\\n\\nOur focus on people, process and technology has helped us to design and develop custom solutions for our clients. With innovation as the key to successful project management, we have leveraged on the latest software and technologies.\\n\\nTo mention, Hallmark Global Technologies has leveraged on the benefits of Microsoft Office 365, to bring reliability, flexibility and security of the cloud to each client engagement. MS Office 365 has allowed us to integrate the existing environment or create a hybrid solution. This means moving some users to the cloud as well as offering support on on-premise access for others.\\n\\nVision :To evolve as the premier company for information technology services by offering bespoke and innovative technology services to clients across industry verticals.\\n\\nMission:To realize for each client high returns on investments made, with far lesser turnaround times and lower total cost of operations.\\n\\nOUR SERVICES:\\n1.custom application development\\n2.consultig\\n3.cloud services/Saas\\n4.Microsoft office 365\\n5.system integration\\n6.staffing\\n\\n'"
            ],
            "application/vnd.google.colaboratory.intrinsic+json": {
              "type": "string"
            }
          },
          "metadata": {},
          "execution_count": 3
        }
      ],
      "source": [
        "f = open('/content/onboarding doc.txt', 'r', encoding='utf8', errors ='ignore')\n",
        "raw_doc =f.read()\n",
        "raw_doc"
      ],
      "id": "cpM0yMNLl6ET"
    },
    {
      "cell_type": "code",
      "execution_count": 4,
      "metadata": {
        "colab": {
          "base_uri": "https://localhost:8080/",
          "height": 140
        },
        "id": "c_nsm6ZRQo_Z",
        "outputId": "ee3446fb-3b92-4fe8-e137-48d3fdcac972"
      },
      "outputs": [
        {
          "output_type": "execute_result",
          "data": {
            "text/plain": [
              "'about hallmark\\n\\nhallmark global technologies is an end-to-end technology company that offers full-fledged software development services to businesses across industry verticals. significantly, we help our clients to leverage on innovative technologies and remain competitive in the market.\\n\\nhallmark global technologies is based in delaware, usa. we have pioneered the introduction of innovative technologies. we drive value for our clients through custom application development, system integration, consulting, infrastructure management and cloud services, and staffing solutions.\\n\\nprimarily, we help our client to keep up-to-date on technologies, applications and business strategies. through proven and value-driven technology and consulting practice, we aim to achieve and enhance each business™ bottom line.\\n\\nour focus on people, process and technology has helped us to design and develop custom solutions for our clients. with innovation as the key to successful project management, we have leveraged on the latest software and technologies.\\n\\nto mention, hallmark global technologies has leveraged on the benefits of microsoft office 365, to bring reliability, flexibility and security of the cloud to each client engagement. ms office 365 has allowed us to integrate the existing environment or create a hybrid solution. this means moving some users to the cloud as well as offering support on on-premise access for others.\\n\\nvision :to evolve as the premier company for information technology services by offering bespoke and innovative technology services to clients across industry verticals.\\n\\nmission:to realize for each client high returns on investments made, with far lesser turnaround times and lower total cost of operations.\\n\\nour services:\\n1.custom application development\\n2.consultig\\n3.cloud services/saas\\n4.microsoft office 365\\n5.system integration\\n6.staffing\\n\\n'"
            ],
            "application/vnd.google.colaboratory.intrinsic+json": {
              "type": "string"
            }
          },
          "metadata": {},
          "execution_count": 4
        }
      ],
      "source": [
        "raw_doc =raw_doc.lower()\n",
        "raw_doc"
      ],
      "id": "c_nsm6ZRQo_Z"
    },
    {
      "cell_type": "markdown",
      "metadata": {
        "id": "sX02uRqdo36a"
      },
      "source": [
        "***Before  Sentence Tokenization***"
      ],
      "id": "sX02uRqdo36a"
    },
    {
      "cell_type": "code",
      "execution_count": 5,
      "metadata": {
        "id": "6c7fe0ae",
        "colab": {
          "base_uri": "https://localhost:8080/"
        },
        "outputId": "47717514-0fd9-4244-a950-1101b37c2890"
      },
      "outputs": [
        {
          "output_type": "execute_result",
          "data": {
            "text/plain": [
              "['about hallmark\\n\\nhallmark global technologies is an end-to-end technology company that offers full-fledged software development services to businesses across industry verticals.',\n",
              " 'significantly, we help our clients to leverage on innovative technologies and remain competitive in the market.',\n",
              " 'hallmark global technologies is based in delaware, usa.',\n",
              " 'we have pioneered the introduction of innovative technologies.',\n",
              " 'we drive value for our clients through custom application development, system integration, consulting, infrastructure management and cloud services, and staffing solutions.',\n",
              " 'primarily, we help our client to keep up-to-date on technologies, applications and business strategies.',\n",
              " 'through proven and value-driven technology and consulting practice, we aim to achieve and enhance each business™ bottom line.',\n",
              " 'our focus on people, process and technology has helped us to design and develop custom solutions for our clients.',\n",
              " 'with innovation as the key to successful project management, we have leveraged on the latest software and technologies.',\n",
              " 'to mention, hallmark global technologies has leveraged on the benefits of microsoft office 365, to bring reliability, flexibility and security of the cloud to each client engagement.',\n",
              " 'ms office 365 has allowed us to integrate the existing environment or create a hybrid solution.',\n",
              " 'this means moving some users to the cloud as well as offering support on on-premise access for others.',\n",
              " 'vision :to evolve as the premier company for information technology services by offering bespoke and innovative technology services to clients across industry verticals.',\n",
              " 'mission:to realize for each client high returns on investments made, with far lesser turnaround times and lower total cost of operations.',\n",
              " 'our services:\\n1.custom application development\\n2.consultig\\n3.cloud services/saas\\n4.microsoft office 365\\n5.system integration\\n6.staffing']"
            ]
          },
          "metadata": {},
          "execution_count": 5
        }
      ],
      "source": [
        "# Apply Tokenization\n",
        "sentence_tokens = nltk.sent_tokenize(raw_doc)\n",
        "sentence_tokens\n"
      ],
      "id": "6c7fe0ae"
    },
    {
      "cell_type": "code",
      "execution_count": 6,
      "metadata": {
        "colab": {
          "base_uri": "https://localhost:8080/"
        },
        "id": "fOClNg4FpMyJ",
        "outputId": "cddc032e-4c33-46e2-8ba9-a534e947d09c"
      },
      "outputs": [
        {
          "output_type": "execute_result",
          "data": {
            "text/plain": [
              "['about hallmark\\n\\nhallmark global technologies is an end-to-end technology company that offers full-fledged software development services to businesses across industry verticals.',\n",
              " 'significantly, we help our clients to leverage on innovative technologies and remain competitive in the market.']"
            ]
          },
          "metadata": {},
          "execution_count": 6
        }
      ],
      "source": [
        "#sentence after tokenization\n",
        "sentence_tokens[:2]"
      ],
      "id": "fOClNg4FpMyJ"
    },
    {
      "cell_type": "markdown",
      "metadata": {
        "id": "mzGenwi1pTab"
      },
      "source": [
        "***Before Word Tokenization***"
      ],
      "id": "mzGenwi1pTab"
    },
    {
      "cell_type": "code",
      "execution_count": 7,
      "metadata": {
        "id": "IaiSYfMVQZ0W",
        "colab": {
          "base_uri": "https://localhost:8080/"
        },
        "outputId": "1ad2aaea-0dae-4550-ba98-156fe7bd5924"
      },
      "outputs": [
        {
          "output_type": "execute_result",
          "data": {
            "text/plain": [
              "['about',\n",
              " 'hallmark',\n",
              " 'hallmark',\n",
              " 'global',\n",
              " 'technologies',\n",
              " 'is',\n",
              " 'an',\n",
              " 'end-to-end',\n",
              " 'technology',\n",
              " 'company',\n",
              " 'that',\n",
              " 'offers',\n",
              " 'full-fledged',\n",
              " 'software',\n",
              " 'development',\n",
              " 'services',\n",
              " 'to',\n",
              " 'businesses',\n",
              " 'across',\n",
              " 'industry',\n",
              " 'verticals',\n",
              " '.',\n",
              " 'significantly',\n",
              " ',',\n",
              " 'we',\n",
              " 'help',\n",
              " 'our',\n",
              " 'clients',\n",
              " 'to',\n",
              " 'leverage',\n",
              " 'on',\n",
              " 'innovative',\n",
              " 'technologies',\n",
              " 'and',\n",
              " 'remain',\n",
              " 'competitive',\n",
              " 'in',\n",
              " 'the',\n",
              " 'market',\n",
              " '.',\n",
              " 'hallmark',\n",
              " 'global',\n",
              " 'technologies',\n",
              " 'is',\n",
              " 'based',\n",
              " 'in',\n",
              " 'delaware',\n",
              " ',',\n",
              " 'usa',\n",
              " '.',\n",
              " 'we',\n",
              " 'have',\n",
              " 'pioneered',\n",
              " 'the',\n",
              " 'introduction',\n",
              " 'of',\n",
              " 'innovative',\n",
              " 'technologies',\n",
              " '.',\n",
              " 'we',\n",
              " 'drive',\n",
              " 'value',\n",
              " 'for',\n",
              " 'our',\n",
              " 'clients',\n",
              " 'through',\n",
              " 'custom',\n",
              " 'application',\n",
              " 'development',\n",
              " ',',\n",
              " 'system',\n",
              " 'integration',\n",
              " ',',\n",
              " 'consulting',\n",
              " ',',\n",
              " 'infrastructure',\n",
              " 'management',\n",
              " 'and',\n",
              " 'cloud',\n",
              " 'services',\n",
              " ',',\n",
              " 'and',\n",
              " 'staffing',\n",
              " 'solutions',\n",
              " '.',\n",
              " 'primarily',\n",
              " ',',\n",
              " 'we',\n",
              " 'help',\n",
              " 'our',\n",
              " 'client',\n",
              " 'to',\n",
              " 'keep',\n",
              " 'up-to-date',\n",
              " 'on',\n",
              " 'technologies',\n",
              " ',',\n",
              " 'applications',\n",
              " 'and',\n",
              " 'business',\n",
              " 'strategies',\n",
              " '.',\n",
              " 'through',\n",
              " 'proven',\n",
              " 'and',\n",
              " 'value-driven',\n",
              " 'technology',\n",
              " 'and',\n",
              " 'consulting',\n",
              " 'practice',\n",
              " ',',\n",
              " 'we',\n",
              " 'aim',\n",
              " 'to',\n",
              " 'achieve',\n",
              " 'and',\n",
              " 'enhance',\n",
              " 'each',\n",
              " 'business™',\n",
              " 'bottom',\n",
              " 'line',\n",
              " '.',\n",
              " 'our',\n",
              " 'focus',\n",
              " 'on',\n",
              " 'people',\n",
              " ',',\n",
              " 'process',\n",
              " 'and',\n",
              " 'technology',\n",
              " 'has',\n",
              " 'helped',\n",
              " 'us',\n",
              " 'to',\n",
              " 'design',\n",
              " 'and',\n",
              " 'develop',\n",
              " 'custom',\n",
              " 'solutions',\n",
              " 'for',\n",
              " 'our',\n",
              " 'clients',\n",
              " '.',\n",
              " 'with',\n",
              " 'innovation',\n",
              " 'as',\n",
              " 'the',\n",
              " 'key',\n",
              " 'to',\n",
              " 'successful',\n",
              " 'project',\n",
              " 'management',\n",
              " ',',\n",
              " 'we',\n",
              " 'have',\n",
              " 'leveraged',\n",
              " 'on',\n",
              " 'the',\n",
              " 'latest',\n",
              " 'software',\n",
              " 'and',\n",
              " 'technologies',\n",
              " '.',\n",
              " 'to',\n",
              " 'mention',\n",
              " ',',\n",
              " 'hallmark',\n",
              " 'global',\n",
              " 'technologies',\n",
              " 'has',\n",
              " 'leveraged',\n",
              " 'on',\n",
              " 'the',\n",
              " 'benefits',\n",
              " 'of',\n",
              " 'microsoft',\n",
              " 'office',\n",
              " '365',\n",
              " ',',\n",
              " 'to',\n",
              " 'bring',\n",
              " 'reliability',\n",
              " ',',\n",
              " 'flexibility',\n",
              " 'and',\n",
              " 'security',\n",
              " 'of',\n",
              " 'the',\n",
              " 'cloud',\n",
              " 'to',\n",
              " 'each',\n",
              " 'client',\n",
              " 'engagement',\n",
              " '.',\n",
              " 'ms',\n",
              " 'office',\n",
              " '365',\n",
              " 'has',\n",
              " 'allowed',\n",
              " 'us',\n",
              " 'to',\n",
              " 'integrate',\n",
              " 'the',\n",
              " 'existing',\n",
              " 'environment',\n",
              " 'or',\n",
              " 'create',\n",
              " 'a',\n",
              " 'hybrid',\n",
              " 'solution',\n",
              " '.',\n",
              " 'this',\n",
              " 'means',\n",
              " 'moving',\n",
              " 'some',\n",
              " 'users',\n",
              " 'to',\n",
              " 'the',\n",
              " 'cloud',\n",
              " 'as',\n",
              " 'well',\n",
              " 'as',\n",
              " 'offering',\n",
              " 'support',\n",
              " 'on',\n",
              " 'on-premise',\n",
              " 'access',\n",
              " 'for',\n",
              " 'others',\n",
              " '.',\n",
              " 'vision',\n",
              " ':',\n",
              " 'to',\n",
              " 'evolve',\n",
              " 'as',\n",
              " 'the',\n",
              " 'premier',\n",
              " 'company',\n",
              " 'for',\n",
              " 'information',\n",
              " 'technology',\n",
              " 'services',\n",
              " 'by',\n",
              " 'offering',\n",
              " 'bespoke',\n",
              " 'and',\n",
              " 'innovative',\n",
              " 'technology',\n",
              " 'services',\n",
              " 'to',\n",
              " 'clients',\n",
              " 'across',\n",
              " 'industry',\n",
              " 'verticals',\n",
              " '.',\n",
              " 'mission',\n",
              " ':',\n",
              " 'to',\n",
              " 'realize',\n",
              " 'for',\n",
              " 'each',\n",
              " 'client',\n",
              " 'high',\n",
              " 'returns',\n",
              " 'on',\n",
              " 'investments',\n",
              " 'made',\n",
              " ',',\n",
              " 'with',\n",
              " 'far',\n",
              " 'lesser',\n",
              " 'turnaround',\n",
              " 'times',\n",
              " 'and',\n",
              " 'lower',\n",
              " 'total',\n",
              " 'cost',\n",
              " 'of',\n",
              " 'operations',\n",
              " '.',\n",
              " 'our',\n",
              " 'services',\n",
              " ':',\n",
              " '1.custom',\n",
              " 'application',\n",
              " 'development',\n",
              " '2.consultig',\n",
              " '3.cloud',\n",
              " 'services/saas',\n",
              " '4.microsoft',\n",
              " 'office',\n",
              " '365',\n",
              " '5.system',\n",
              " 'integration',\n",
              " '6.staffing']"
            ]
          },
          "metadata": {},
          "execution_count": 7
        }
      ],
      "source": [
        "# @title Default title text\n",
        "# Apply Tokenization\n",
        "word_tokens= nltk.word_tokenize(raw_doc)\n",
        "word_tokens"
      ],
      "id": "IaiSYfMVQZ0W"
    },
    {
      "cell_type": "code",
      "execution_count": 8,
      "metadata": {
        "colab": {
          "base_uri": "https://localhost:8080/"
        },
        "id": "a44803b7",
        "outputId": "e7f8cbb3-3522-4192-f556-011c1913dd83"
      },
      "outputs": [
        {
          "output_type": "execute_result",
          "data": {
            "text/plain": [
              "['about', 'hallmark', 'hallmark', 'global', 'technologies']"
            ]
          },
          "metadata": {},
          "execution_count": 8
        }
      ],
      "source": [
        "#words after tokenization\n",
        "word_tokens[:5]"
      ],
      "id": "a44803b7"
    },
    {
      "cell_type": "markdown",
      "metadata": {
        "id": "ut_4rY0ZfpPL"
      },
      "source": [
        "***Text Preprocessing***"
      ],
      "id": "ut_4rY0ZfpPL"
    },
    {
      "cell_type": "code",
      "execution_count": 9,
      "metadata": {
        "id": "9c3d85c5"
      },
      "outputs": [],
      "source": [
        "lemmer = nltk.stem.WordNetLemmatizer()\n",
        "def LemTokens(tokens):\n",
        "  return[lemmer.lemmatize(token) for token in tokens]\n",
        "remove_punc_dict =dict((ord(punct), None) for punct in string.punctuation)\n",
        "def LemNormalize(text):\n",
        "  return LemTokens(nltk.word_tokenize(text.lower().translate(remove_punc_dict)))"
      ],
      "id": "9c3d85c5"
    },
    {
      "cell_type": "markdown",
      "metadata": {
        "id": "8Kih0ckxpyHz"
      },
      "source": [
        "***Give Greetings To Bot***"
      ],
      "id": "8Kih0ckxpyHz"
    },
    {
      "cell_type": "code",
      "execution_count": 10,
      "metadata": {
        "id": "c068a05a"
      },
      "outputs": [],
      "source": [
        " # Starting Chatbot\n",
        "greeting_input=[\"hi\",\"hello\",\"hey\",\"hola\", \"fine\",\"how are you\"]  #keywords for greetings\n",
        "greeting_response=[\"howdy\",\"hi\",\"hey there\",\"fine\",\"Hello! How are you today? \",\"How Can I Assist You\",\"☺\"]\n",
        " def greeting(sentence):\n",
        "  for word in sentence.split():\n",
        "    if word.lower() in greeting_input:\n",
        "      return random.choice(greeting_response)"
      ],
      "id": "c068a05a"
    },
    {
      "cell_type": "markdown",
      "metadata": {
        "id": "LtoVTFidr6bM"
      },
      "source": [
        "***Response Generated By Bot***"
      ],
      "id": "LtoVTFidr6bM"
    },
    {
      "cell_type": "code",
      "execution_count": 11,
      "metadata": {
        "id": "9d299ca0"
      },
      "outputs": [],
      "source": [
        "def response(user_response):\n",
        "  #user_response=user_response.lower()\n",
        "  robo_response = ' '\n",
        "  #sentence_tokens.append(user_response)\n",
        "  TfidVec = TfidfVectorizer(tokenizer =  LemNormalize, stop_words ='english')\n",
        "  tfidf = TfidVec.fit_transform(sentence_tokens)\n",
        "  vals =cosine_similarity(tfidf[-1], tfidf)\n",
        "  idx = vals.argsort()[0][-2]\n",
        "  flat = vals.flatten()\n",
        "  flat.sort()\n",
        "  req_tfidf = flat[-2]\n",
        "  if (req_tfidf == 0):\n",
        "    robo_response = robo_response + \"I'm Sorry. Unable to Understand You!\"\n",
        "    return robo_response\n",
        "  else:\n",
        "     robo_response = robo_response + \" \".join(sentence_tokens[idx:idx + 2]).capitalize()\n",
        "     return robo_response"
      ],
      "id": "9d299ca0"
    },
    {
      "cell_type": "code",
      "source": [],
      "metadata": {
        "id": "P1zIKZg20T0l"
      },
      "id": "P1zIKZg20T0l",
      "execution_count": null,
      "outputs": []
    },
    {
      "cell_type": "code",
      "execution_count": 12,
      "metadata": {
        "colab": {
          "base_uri": "https://localhost:8080/"
        },
        "id": "61de7106",
        "outputId": "cb334fc0-4873-471c-f281-5fb6548f4c41"
      },
      "outputs": [
        {
          "output_type": "stream",
          "name": "stdout",
          "text": [
            " Bot: Hello! This Bot. Start typing your text after greeting to talk to me. For ending conversation type bye! or exit or quit\n",
            "User:hi\n",
            "Bot: Hello! How are you today? \n",
            "User:fine\n",
            "Bot: hey there\n",
            "User:can you explain about hallmark\n",
            "Bot: "
          ]
        },
        {
          "output_type": "stream",
          "name": "stderr",
          "text": [
            "/usr/local/lib/python3.10/dist-packages/sklearn/feature_extraction/text.py:528: UserWarning: The parameter 'token_pattern' will not be used since 'tokenizer' is not None'\n",
            "  warnings.warn(\n",
            "/usr/local/lib/python3.10/dist-packages/sklearn/feature_extraction/text.py:409: UserWarning: Your stop_words may be inconsistent with your preprocessing. Tokenizing the stop words generated tokens ['ha', 'le', 'u', 'wa'] not in stop_words.\n",
            "  warnings.warn(\n"
          ]
        },
        {
          "output_type": "stream",
          "name": "stdout",
          "text": [
            " About hallmark\n",
            "\n",
            "hallmark global technologies is an end-to-end technology company that offers full-fledged software development services to businesses across industry verticals. significantly, we help our clients to leverage on innovative technologies and remain competitive in the market.\n",
            "User:what are the services provided hallmark\n",
            "Bot:  About hallmark\n",
            "\n",
            "hallmark global technologies is an end-to-end technology company that offers full-fledged software development services to businesses across industry verticals. significantly, we help our clients to leverage on innovative technologies and remain competitive in the market.\n",
            "User:what services provided hallmark\n",
            "Bot:  About hallmark\n",
            "\n",
            "hallmark global technologies is an end-to-end technology company that offers full-fledged software development services to businesses across industry verticals. significantly, we help our clients to leverage on innovative technologies and remain competitive in the market.\n",
            "User:our services\n",
            "Bot:  Vision :to evolve as the premier company for information technology services by offering bespoke and innovative technology services to clients across industry verticals. mission:to realize for each client high returns on investments made, with far lesser turnaround times and lower total cost of operations.\n",
            "User:what technologies provided by hallmark\n",
            "Bot:  About hallmark\n",
            "\n",
            "hallmark global technologies is an end-to-end technology company that offers full-fledged software development services to businesses across industry verticals. significantly, we help our clients to leverage on innovative technologies and remain competitive in the market.\n",
            "User:hey\n",
            "Bot: howdy\n",
            "User:which services are used\n",
            "Bot:  Vision :to evolve as the premier company for information technology services by offering bespoke and innovative technology services to clients across industry verticals. mission:to realize for each client high returns on investments made, with far lesser turnaround times and lower total cost of operations.\n",
            "User:give another one\n",
            "Bot:  I'm Sorry. Unable to Understand You!\n",
            "User: bye\n",
            "Bot:  I'm Sorry. Unable to Understand You!\n",
            "User:bye\n",
            "Bot: Bye! Take Care \n"
          ]
        }
      ],
      "source": [
        "#greeting_input=[\"hi\",\"hello\",\"hey\",\"hola\",\"namaste\",'fine']\n",
        "#greeting_response=[\"howdy\",\"hey there\",\"hi\",\"Hello! How are you today? \",\"How Can I Assist You\"]\n",
        "#def greeting(sentence):\n",
        " # for word in sentence.split():\n",
        "   # if word.lower() in greeting_input:\n",
        "      #return random.choice(greeting_response)\n",
        "flag = True\n",
        "print(f\" Bot: Hello! This Bot. Start typing your text after greeting to talk to me. For ending conversation type bye! or exit or quit\" )\n",
        "while (flag == True):\n",
        "  user_response=input(\"User:\")\n",
        "  user_response = user_response.lower()\n",
        "  if (user_response != 'bye'):\n",
        "    if(user_response == 'thank you' or user_response == 'thanks'):\n",
        "      flag = False\n",
        "      print('Bot: You Are Welcome.')\n",
        "    else:\n",
        "      if(greeting(user_response) != None):\n",
        "        print('Bot: '+ greeting(user_response))\n",
        "      else:\n",
        "        sentence_tokens.append(user_response)\n",
        "        #word_tokens = word_tokens + nltk.word_tokenize(user_response)\n",
        "        #final_words = list(set(word_tokens))\n",
        "        print('Bot: ',end=\"\")\n",
        "        print(response(user_response))\n",
        "        sentence_tokens.remove(user_response)\n",
        "  else:\n",
        "    flag= False\n",
        "    print('Bot: Bye! Take Care ')"
      ],
      "id": "61de7106"
    }
  ],
  "metadata": {
    "colab": {
      "provenance": [],
      "include_colab_link": true
    },
    "kernelspec": {
      "display_name": "Python 3 (ipykernel)",
      "language": "python",
      "name": "python3"
    },
    "language_info": {
      "codemirror_mode": {
        "name": "ipython",
        "version": 3
      },
      "file_extension": ".py",
      "mimetype": "text/x-python",
      "name": "python",
      "nbconvert_exporter": "python",
      "pygments_lexer": "ipython3",
      "version": "3.9.7"
    },
    "varInspector": {
      "cols": {
        "lenName": 16,
        "lenType": 16,
        "lenVar": 40
      },
      "kernels_config": {
        "python": {
          "delete_cmd_postfix": "",
          "delete_cmd_prefix": "del ",
          "library": "var_list.py",
          "varRefreshCmd": "print(var_dic_list())"
        },
        "r": {
          "delete_cmd_postfix": ") ",
          "delete_cmd_prefix": "rm(",
          "library": "var_list.r",
          "varRefreshCmd": "cat(var_dic_list()) "
        }
      },
      "types_to_exclude": [
        "module",
        "function",
        "builtin_function_or_method",
        "instance",
        "_Feature"
      ],
      "window_display": false
    }
  },
  "nbformat": 4,
  "nbformat_minor": 5
}